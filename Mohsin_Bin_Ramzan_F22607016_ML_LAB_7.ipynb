{
  "nbformat": 4,
  "nbformat_minor": 0,
  "metadata": {
    "colab": {
      "provenance": []
    },
    "kernelspec": {
      "name": "python3",
      "display_name": "Python 3"
    },
    "language_info": {
      "name": "python"
    }
  },
  "cells": [
    {
      "cell_type": "markdown",
      "source": [
        "Write a Python Code to implement the neural network in Figure 7.1. Calculate Errors and compare\n",
        "the results with the above calculations. Also, write a conclusion on the following,\n",
        " How the input data passes through the network, and activations are computed at each\n",
        "layer?\n",
        " Impact of the sigmoid activation function on introducing non-linearity in the hidden\n",
        "and output layers."
      ],
      "metadata": {
        "id": "piz6Xo-Ka7C2"
      }
    },
    {
      "cell_type": "code",
      "source": [
        "import numpy as np\n",
        "\n",
        "# Initialize inputs, weights, and biases\n",
        "inputs = np.array([0.05, 0.10])\n",
        "weights_input_to_hidden = np.array([[0.15, 0.20], [0.25, 0.30]])\n",
        "weights_hidden_to_output = np.array([[0.40, 0.45], [0.50, 0.55]])\n",
        "bias_hidden = np.array([0.35, 0.35])\n",
        "bias_output = np.array([0.60, 0.60])\n",
        "target_outputs = np.array([0.01, 0.99])\n",
        "\n",
        "# Activation function: Sigmoid\n",
        "def sigmoid(x):\n",
        "    return 1 / (1 + np.exp(-x))\n",
        "\n",
        "# Derivative of sigmoid (used for backpropagation if needed)\n",
        "def sigmoid_derivative(x):\n",
        "    return x * (1 - x)\n",
        "\n",
        "# Forward propagation\n",
        "# Step 1: Calculate net input and activation for hidden layer\n",
        "net_input_hidden = np.dot(inputs, weights_input_to_hidden) + bias_hidden\n",
        "output_hidden = sigmoid(net_input_hidden)\n",
        "\n",
        "# Step 2: Calculate net input and activation for output layer\n",
        "net_input_output = np.dot(output_hidden, weights_hidden_to_output) + bias_output\n",
        "output_final = sigmoid(net_input_output)\n",
        "\n",
        "# Error calculation\n",
        "errors = 0.5 * (target_outputs - output_final) ** 2\n",
        "total_error = np.sum(errors)\n",
        "\n",
        "# Display results\n",
        "print(\"Outputs from Hidden Layer:\", output_hidden)\n",
        "print(\"Final Outputs:\", output_final)\n",
        "print(\"Errors:\", errors)\n",
        "print(\"Total Error:\", total_error)\n"
      ],
      "metadata": {
        "colab": {
          "base_uri": "https://localhost:8080/"
        },
        "id": "ogfVxBBoa9TJ",
        "outputId": "cbc5515d-535c-4428-e5b6-5a282eb2ad36"
      },
      "execution_count": 1,
      "outputs": [
        {
          "output_type": "stream",
          "name": "stdout",
          "text": [
            "Outputs from Hidden Layer: [0.59447593 0.5962827 ]\n",
            "Final Outputs: [0.75693192 0.76771788]\n",
            "Errors: [0.27895364 0.02470467]\n",
            "Total Error: 0.303658313630144\n"
          ]
        }
      ]
    }
  ]
}