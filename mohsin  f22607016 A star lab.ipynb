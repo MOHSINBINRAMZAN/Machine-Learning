{
 "cells": [
  {
   "cell_type": "markdown",
   "metadata": {},
   "source": [
    "TASK#1"
   ]
  },
  {
   "cell_type": "code",
   "execution_count": 2,
   "metadata": {},
   "outputs": [
    {
     "name": "stdout",
     "output_type": "stream",
     "text": [
      "Path from S to G: ['S', 'A', 'C', 'D', 'G']\n"
     ]
    }
   ],
   "source": [
    "import heapq\n",
    "\n",
    "class Node:\n",
    "    def __init__(self, state, parent=None, g_cost=0, h_cost=0):\n",
    "        self.state = state\n",
    "        self.parent = parent\n",
    "        self.g_cost = g_cost  \n",
    "        self.h_cost = h_cost  \n",
    "\n",
    "    def __lt__(self, other):\n",
    "        return (self.g_cost + self.h_cost) < (other.g_cost + other.h_cost)\n",
    "\n",
    "def a_star(start, goal, edges, heuristic=lambda state: 0):\n",
    "    open_set = [Node(start, None, 0, heuristic(start))]\n",
    "    closed_set = set()\n",
    "\n",
    "    while open_set:\n",
    "        current_node = heapq.heappop(open_set)\n",
    "\n",
    "        if current_node.state == goal:\n",
    "            path = []\n",
    "            while current_node:\n",
    "                path.append(current_node.state)\n",
    "                current_node = current_node.parent\n",
    "            return path[::-1]\n",
    "\n",
    "        closed_set.add(current_node.state)\n",
    "\n",
    "        for neighbor, cost in edges.get(current_node.state, []):\n",
    "            if neighbor not in closed_set:\n",
    "                g_cost = current_node.g_cost + cost\n",
    "                h_cost = heuristic(neighbor)\n",
    "                new_node = Node(neighbor, current_node, g_cost, h_cost)\n",
    "\n",
    "                if new_node not in open_set:\n",
    "                    heapq.heappush(open_set, new_node)\n",
    "\n",
    "    return None  \n",
    "\n",
    "edges = {\n",
    "    'S': [('A', 1), ('G', 10)],\n",
    "    'A': [('B', 2), ('C', 1)],\n",
    "    'C': [('D', 3), ('G', 4)],\n",
    "    'D': [('G', 0)],\n",
    "    'B': [('D', 5)],\n",
    "    'G': []\n",
    "}\n",
    "\n",
    "start_state = 'S'\n",
    "goal_state = 'G'\n",
    "\n",
    "\n",
    "path = a_star(start_state, goal_state, edges)\n",
    "\n",
    "\n",
    "if path:\n",
    "    print(f\"Path from {start_state} to {goal_state}: {path}\")\n",
    "else:\n",
    "    print(f\"No path found from {start_state} to {goal_state}.\")\n"
   ]
  },
  {
   "cell_type": "markdown",
   "metadata": {},
   "source": [
    "TASK#2"
   ]
  },
  {
   "cell_type": "code",
   "execution_count": 1,
   "metadata": {},
   "outputs": [
    {
     "name": "stdout",
     "output_type": "stream",
     "text": [
      "Path from a to z: ['a', 'c', 'd', 'e', 'z']\n"
     ]
    }
   ],
   "source": [
    "import heapq\n",
    "\n",
    "class Node:\n",
    "    def __init__(self, state, parent=None, g_cost=0, h_cost=0):\n",
    "        self.state = state\n",
    "        self.parent = parent\n",
    "        self.g_cost = g_cost\n",
    "        self.h_cost = h_cost\n",
    "\n",
    "    def __lt__(self, other):\n",
    "        return (self.g_cost + self.h_cost) < (other.g_cost + other.h_cost)\n",
    "\n",
    "def a_star(start, goal, edges, heuristic):\n",
    "    open_set = [Node(start, None, 0, heuristic[start])]\n",
    "    closed_set = set()\n",
    "\n",
    "    while open_set:\n",
    "        current_node = heapq.heappop(open_set)\n",
    "\n",
    "        if current_node.state == goal:\n",
    "            path = []\n",
    "            while current_node:\n",
    "                path.append(current_node.state)\n",
    "                current_node = current_node.parent\n",
    "            return path[::-1]\n",
    "\n",
    "        closed_set.add(current_node.state)\n",
    "\n",
    "        for neighbor, cost in edges.get(current_node.state, []):\n",
    "            if neighbor not in closed_set:\n",
    "                g_cost = current_node.g_cost + cost\n",
    "                h_cost = heuristic[neighbor]\n",
    "                new_node = Node(neighbor, current_node, g_cost, h_cost)\n",
    "\n",
    "                if new_node not in open_set:\n",
    "                    heapq.heappush(open_set, new_node)\n",
    "\n",
    "    return None\n",
    "\n",
    "edges = {\n",
    "    'a': [('b', 4), ('c', 3)],\n",
    "    'b': [('f', 5), ('e', 12)],\n",
    "    'c': [('d', 7), ('e', 10)],\n",
    "    'd': [('e', 2)],\n",
    "    'e': [('z', 5)],\n",
    "    'f': [('z', 16)],\n",
    "    'z': []\n",
    "}\n",
    "\n",
    "heuristic = {\n",
    "    'a': 14,\n",
    "    'b': 12,\n",
    "    'c': 11,\n",
    "    'd': 6,\n",
    "    'e': 5,\n",
    "    'f': 16,\n",
    "    'z': 0\n",
    "}\n",
    "\n",
    "start_state = 'a'\n",
    "goal_state = 'z'\n",
    "\n",
    "path = a_star(start_state, goal_state, edges, heuristic)\n",
    "\n",
    "if path:\n",
    "    print(f\"Path from {start_state} to {goal_state}: {path}\")\n",
    "else:\n",
    "    print(f\"No path found from {start_state} to {goal_state}.\")\n"
   ]
  }
 ],
 "metadata": {
  "kernelspec": {
   "display_name": "base",
   "language": "python",
   "name": "python3"
  },
  "language_info": {
   "codemirror_mode": {
    "name": "ipython",
    "version": 3
   },
   "file_extension": ".py",
   "mimetype": "text/x-python",
   "name": "python",
   "nbconvert_exporter": "python",
   "pygments_lexer": "ipython3",
   "version": "3.11.5"
  }
 },
 "nbformat": 4,
 "nbformat_minor": 2
}
