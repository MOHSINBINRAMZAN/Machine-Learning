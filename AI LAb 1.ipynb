{
 "cells": [
  {
   "cell_type": "code",
   "execution_count": 27,
   "metadata": {},
   "outputs": [
    {
     "name": "stdout",
     "output_type": "stream",
     "text": [
      "[6, 8, 5, 9, 0, 54, 21, 3]\n",
      "[6, 8, 5, 9, 0, 21, 3]\n",
      "[6, 8, 5, 9, 0, 21, 3, 68]\n",
      "8\n",
      "[6, 8, 5, 9, 21, 3, 68]\n",
      "[]\n"
     ]
    }
   ],
   "source": [
    "\n",
    "#A) Create a list and perform the following methods\n",
    "#1) insert() 2) remove() 3) append() 4) len() 5) pop() 6)clear()\n",
    "\n",
    "list1=[6,8,5,9,0,21,3]\n",
    "list1.insert(5,54)\n",
    "print(list1)\n",
    "\n",
    "list1.remove(54)\n",
    "print(list1)\n",
    "\n",
    "list1.append(68)\n",
    "print(list1)\n",
    "\n",
    "l=len(list1)\n",
    "print(l)\n",
    "\n",
    "list1.pop(4)\n",
    "print(list1)\n",
    "\n",
    "list1.clear()\n",
    "print(list1)\n",
    "\n"
   ]
  },
  {
   "cell_type": "code",
   "execution_count": 28,
   "metadata": {},
   "outputs": [
    {
     "name": "stdout",
     "output_type": "stream",
     "text": [
      "{'name': 'mohsin', 'age': 19, 'degree': 'AI'}\n",
      "AI\n",
      "mohsin\n",
      "{'name': 'mohsin', 'age': 20, 'degree': 'AI'}\n",
      "3\n"
     ]
    }
   ],
   "source": [
    "#B) Create a dictionary and apply the following methods\n",
    "#1) Print the dictionary items 2) access items 3) useget() 4)change values 5) use len()\n",
    "\n",
    "dict1={\n",
    "    \"name\":\"mohsin\",\n",
    "    \"age\":19,\n",
    "    \"degree\":\"AI\"\n",
    "}\n",
    "\n",
    "print(dict1)\n",
    "\n",
    "print(dict1[\"degree\"])\n",
    "\n",
    "x=dict1.get(\"name\")\n",
    "print(x)\n",
    "\n",
    "dict1[\"age\"]=20\n",
    "print(dict1)\n",
    "\n",
    "y=len(dict1)\n",
    "print(y)\n"
   ]
  },
  {
   "cell_type": "code",
   "execution_count": 29,
   "metadata": {},
   "outputs": [
    {
     "name": "stdout",
     "output_type": "stream",
     "text": [
      "(9, 6, 0, 2, 5, 54, 87, 25, 36)\n",
      "9\n",
      "the item is present in tuple\n",
      "5\n"
     ]
    }
   ],
   "source": [
    "#C) Create a tuple and perform the following methods\n",
    "#1) Add items 2) len() 3) check for item in tuple4)Access items\n",
    "\n",
    "\n",
    "tup1=(9,6,0,2,5)\n",
    "tup2=(54,87,25,36)\n",
    "\n",
    "x=tup1+tup2 \n",
    "print(x)\n",
    "\n",
    "y=len(x)\n",
    "print(y)\n",
    "\n",
    "checkitem=54\n",
    "if checkitem in tup2:\n",
    "    print(\"the item is present in tuple\")\n",
    "else:\n",
    "    print(\"there is no item in the tuple\")\n",
    "    \n",
    "z=x[4]\n",
    "print(z)\n"
   ]
  },
  {
   "cell_type": "code",
   "execution_count": 30,
   "metadata": {},
   "outputs": [
    {
     "name": "stdout",
     "output_type": "stream",
     "text": [
      "the sum of two numbers is 114\n"
     ]
    }
   ],
   "source": [
    "#A) Write a python program to add two numbers.\n",
    "\n",
    "c=25\n",
    "d=89\n",
    "sum=c+d\n",
    "print(\"the sum of two numbers is\",sum )\n",
    "    \n",
    "        \n",
    "    \n",
    "    "
   ]
  },
  {
   "cell_type": "code",
   "execution_count": 1,
   "metadata": {},
   "outputs": [
    {
     "name": "stdout",
     "output_type": "stream",
     "text": [
      "the number is positive\n"
     ]
    }
   ],
   "source": [
    "#B) Write a python program to print a number is positive/negative using if-else.\n",
    "\n",
    "c=int(input(\"enter any number:\"))\n",
    "if c<0:\n",
    "    print(\"the number is negative\")\n",
    "else:\n",
    "    print(\"the number is positive\")\n",
    "\n"
   ]
  },
  {
   "cell_type": "code",
   "execution_count": 32,
   "metadata": {},
   "outputs": [
    {
     "name": "stdout",
     "output_type": "stream",
     "text": [
      "the largest number is 68\n"
     ]
    }
   ],
   "source": [
    "#C) Write a python program to find largest number among three numbers.\n",
    "\n",
    "a=int(input(\"enter the number:\"))\n",
    "b=int(input(\"enter the second number:\"))\n",
    "c=int(input(\"enter the third number:\"))\n",
    "\n",
    "if a>b and a>c:\n",
    "    print(\"the largest number is\",a)\n",
    "elif b>c and b>a:\n",
    "    print(\"the largest number is \", b)\n",
    "else:\n",
    "    print(\"the largest number is\",c)\n",
    "    "
   ]
  },
  {
   "cell_type": "code",
   "execution_count": 2,
   "metadata": {},
   "outputs": [
    {
     "name": "stdout",
     "output_type": "stream",
     "text": [
      "tuesday\n"
     ]
    }
   ],
   "source": [
    "#D) Write a python Program to read a number and display corresponding day using if_elif_else?\n",
    "\n",
    "\n",
    "\n",
    "i=int(input(\"enter the number\"))\n",
    "\n",
    "if i==1:\n",
    "    print(\"monday\")\n",
    "elif i==2:\n",
    "    print(\"tuesday\")\n",
    "elif i==3:\n",
    "    print(\"wednesday\")\n",
    "elif i==4:\n",
    "    print(\"thursday\")\n",
    "elif i==5:\n",
    "    print(\"friday\")\n",
    "elif i==6:\n",
    "    print(\"saturday\")\n",
    "elif i==7:\n",
    "    print(\"sunday\")\n",
    "else:\n",
    "    print(\"no valid number\")\n",
    "    \n",
    "    "
   ]
  },
  {
   "cell_type": "code",
   "execution_count": 21,
   "metadata": {},
   "outputs": [
    {
     "name": "stdout",
     "output_type": "stream",
     "text": [
      "Menu:\n",
      "1. TO PERFORM ADDITION\n",
      "2. TO PERFORM SUBTRACTION\n",
      "3. TO PERFORM MULTIPLICATION\n",
      "4. TO PERFORM DIVISION\n",
      "5. TO EXIT\n"
     ]
    },
    {
     "name": "stdout",
     "output_type": "stream",
     "text": [
      "Result:  6.0\n",
      "Menu:\n",
      "1. TO PERFORM ADDITION\n",
      "2. TO PERFORM SUBTRACTION\n",
      "3. TO PERFORM MULTIPLICATION\n",
      "4. TO PERFORM DIVISION\n",
      "5. TO EXIT\n",
      "Exiting the program.\n"
     ]
    }
   ],
   "source": [
    "\n",
    "def add(x, y):\n",
    "    return x + y\n",
    "\n",
    "\n",
    "def subtract(x, y):\n",
    "    return x - y\n",
    "\n",
    "\n",
    "def multiply(x, y):\n",
    "    return x * y\n",
    "\n",
    "\n",
    "def divide(x, y):\n",
    "    if y != 0:\n",
    "        return x / y\n",
    "    else:\n",
    "        return \"Error! Division by zero.\"\n",
    "\n",
    "\n",
    "def main():\n",
    "    while True:\n",
    "        print(\"Menu:\")\n",
    "        print(\"1. TO PERFORM ADDITION\")\n",
    "        print(\"2. TO PERFORM SUBTRACTION\")\n",
    "        print(\"3. TO PERFORM MULTIPLICATION\")\n",
    "        print(\"4. TO PERFORM DIVISION\")\n",
    "        print(\"5. TO EXIT\")\n",
    "        \n",
    "        choice = input(\"Enter your choice: \")\n",
    "\n",
    "        if choice in ['1', '2', '3', '4']:\n",
    "            try:\n",
    "                num1 = float(input(\"Enter first number: \"))\n",
    "                num2 = float(input(\"Enter second number: \"))\n",
    "            except ValueError:\n",
    "                print(\"Invalid input! Please enter numeric values.\")\n",
    "                continue\n",
    "\n",
    "            if choice == '1':\n",
    "                print(\"Result: \", add(num1, num2))\n",
    "            elif choice == '2':\n",
    "                print(\"Result: \", subtract(num1, num2))\n",
    "            elif choice == '3':\n",
    "                print(\"Result: \", multiply(num1, num2))\n",
    "            elif choice == '4':\n",
    "                print(\"Result: \", divide(num1, num2))\n",
    "        elif choice == '5':\n",
    "            print(\"Exiting the program.\")\n",
    "            break\n",
    "        else:\n",
    "            print(\"Invalid choice! Please enter a valid option.\")\n",
    "\n",
    "\n",
    "if __name__ == \"__main__\":\n",
    "    main()\n"
   ]
  },
  {
   "cell_type": "code",
   "execution_count": 49,
   "metadata": {},
   "outputs": [
    {
     "name": "stdout",
     "output_type": "stream",
     "text": [
      "The string is not a palindrome.\n"
     ]
    }
   ],
   "source": [
    "def is_palindrome(s):\n",
    "    \n",
    "    s = s.replace(\" \", \"\").lower()\n",
    "    \n",
    "    \n",
    "    return s == s[::-1]\n",
    "\n",
    "\n",
    "input_string = input(\"Enter a string: \")\n",
    "\n",
    "if is_palindrome(input_string):\n",
    "    print(\"The string is a palindrome.\")\n",
    "else:\n",
    "    print(\"The string is not a palindrome.\")\n"
   ]
  },
  {
   "cell_type": "code",
   "execution_count": 20,
   "metadata": {},
   "outputs": [
    {
     "name": "stdout",
     "output_type": "stream",
     "text": [
      "Factorial of 4 is 24\n"
     ]
    }
   ],
   "source": [
    "\n",
    "def factorial(num):\n",
    "    if num == 0 or num == 1:\n",
    "        return 1\n",
    "    else:\n",
    "        return num * factorial(num - 1)\n",
    "\n",
    "\n",
    "try:\n",
    "    number = int(input(\"Enter a number: \"))\n",
    "    if number < 0:\n",
    "        print(\" no fctorial for negative numbers.\")\n",
    "    else:\n",
    "        result = factorial(number)\n",
    "        print(\"Factorial of\", number, \"is\", result)\n",
    "except ValueError:\n",
    "    print(\"error.\")\n"
   ]
  },
  {
   "cell_type": "code",
   "execution_count": 59,
   "metadata": {},
   "outputs": [
    {
     "name": "stdout",
     "output_type": "stream",
     "text": [
      "False\n",
      "False\n"
     ]
    }
   ],
   "source": [
    "#Write a Python function that takes two lists and returns True if they are equal otherwise false\n",
    "\n",
    "def listsequal(list1, list2):\n",
    "    \n",
    "    if len(list1) != len(list2):\n",
    "        return False\n",
    "    \n",
    "    \n",
    "    for i in range(len(list1)):\n",
    "       \n",
    "        if list1[i] != list2[i]:\n",
    "            return False\n",
    "    \n",
    "    \n",
    "    return True\n",
    "\n",
    "\n",
    "list1 = [12, 22, 30, 48, 51]\n",
    "list2 = [10, 26, 31, 45, 62]\n",
    "list3 = [19, 23, 35, 68, 77]\n",
    "\n",
    "\n",
    "print(listsequal(list1, list2)) \n",
    "print(listsequal(list1, list3))  \n"
   ]
  },
  {
   "cell_type": "code",
   "execution_count": 1,
   "metadata": {},
   "outputs": [
    {
     "name": "stdout",
     "output_type": "stream",
     "text": [
      "Result: 90.0\n"
     ]
    }
   ],
   "source": [
    "\n",
    "double_number = lambda x: x * 2\n",
    "\n",
    "\n",
    "num = float(input(\"Enter a number: \"))\n",
    "doubled_num = double_number(num)\n",
    "\n",
    "\n",
    "num1 = float(input(\"Enter the first number : \"))\n",
    "num2 = float(input(\"Enter the second number : \"))\n",
    "\n",
    "\n",
    "add_numbers = lambda a, b: a + b\n",
    "\n",
    "\n",
    "result = add_numbers(doubled_num, add_numbers(num1, num2))\n",
    "\n",
    "\n",
    "print(\"Result:\", result)\n"
   ]
  },
  {
   "cell_type": "code",
   "execution_count": 2,
   "metadata": {},
   "outputs": [
    {
     "name": "stdout",
     "output_type": "stream",
     "text": [
      "Double of the given number: 25.0\n",
      "Sum of the two numbers: 61.0\n"
     ]
    }
   ],
   "source": [
    "\n",
    "double_number = lambda x: x * 2\n",
    "\n",
    "\n",
    "add_numbers = lambda x, y: x + y\n",
    "\n",
    "\n",
    "try:\n",
    "    num = float(input(\"Enter a number: \"))\n",
    "    num_doubled = double_number(num)\n",
    "    print(\"Double of the given number:\", num_doubled)\n",
    "\n",
    "    num1 = float(input(\"Enter the first number to add: \"))\n",
    "    num2 = float(input(\"Enter the second number to add: \"))\n",
    "    result = add_numbers(num1, num2)45\n",
    "    \n",
    "    print(\"Sum of the two numbers:\", result)\n",
    "\n",
    "except ValueError:\n",
    "    print(\"Invalid input! Please enter valid numbers.\")\n"
   ]
  },
  {
   "cell_type": "code",
   "execution_count": 3,
   "metadata": {},
   "outputs": [
    {
     "name": "stdout",
     "output_type": "stream",
     "text": [
      "Original list: [1, 2, 3, 4, 5, 6, 7, 8, 9, 10]\n",
      "Even numbers in the list: [2, 4, 6, 8, 10]\n"
     ]
    }
   ],
   "source": [
    "\n",
    "def is_even(num):\n",
    "    return num % 2 == 0\n",
    "\n",
    "\n",
    "numbers = [1, 2, 3, 4, 5, 6, 7, 8, 9, 10]\n",
    "\n",
    "\n",
    "even_numbers = list(filter(is_even, numbers))\n",
    "\n",
    "\n",
    "print(\"Original list:\", numbers)\n",
    "print(\"Even numbers in the list:\", even_numbers)\n"
   ]
  },
  {
   "cell_type": "code",
   "execution_count": 6,
   "metadata": {},
   "outputs": [
    {
     "name": "stdout",
     "output_type": "stream",
     "text": [
      "Original list: [1, 2, 3, 4, 5]\n",
      "Doubled numbers in the list: [2, 4, 6, 8, 10]\n"
     ]
    }
   ],
   "source": [
    "\n",
    "numbers = [1, 2, 3, 4, 5]\n",
    "\n",
    "\n",
    "doubled_numbers = list(map(lambda x: x * 2, numbers))\n",
    "\n",
    "\n",
    "print(\"Original list:\", numbers)\n",
    "print(\"Doubled numbers in the list:\", doubled_numbers)\n"
   ]
  },
  {
   "cell_type": "code",
   "execution_count": 5,
   "metadata": {},
   "outputs": [
    {
     "name": "stdout",
     "output_type": "stream",
     "text": [
      "Original list: [1, 2, 3, 4, 5]\n",
      "Sum of numbers in the list: 15\n"
     ]
    }
   ],
   "source": [
    "from functools import reduce\n",
    "\n",
    "\n",
    "numbers = [1, 2, 3, 4, 5]\n",
    "\n",
    "\n",
    "sum_of_numbers = reduce(lambda x, y: x + y, numbers)\n",
    "\n",
    "\n",
    "print(\"Original list:\", numbers)\n",
    "print(\"Sum of numbers in the list:\", sum_of_numbers)\n"
   ]
  },
  {
   "cell_type": "code",
   "execution_count": 19,
   "metadata": {},
   "outputs": [
    {
     "name": "stdout",
     "output_type": "stream",
     "text": [
      "Result: 0.47619047619047616\n",
      " continue\n"
     ]
    }
   ],
   "source": [
    "import sys\n",
    "\n",
    "try:\n",
    "    \n",
    "    num = int(input(\"Enter a number: \"))\n",
    "    result = 10 / num  \n",
    "    \n",
    "    \n",
    "    print(\"Result:\", result)\n",
    "\n",
    "except ZeroDivisionError:\n",
    "    print(\"Error\")\n",
    "    sys.exit(1)  \n",
    "except ValueError:\n",
    "    print(\"Error \")\n",
    "    sys.exit(1)  \n",
    "\n",
    "\n",
    "print(\" continue\")\n"
   ]
  },
  {
   "cell_type": "code",
   "execution_count": 18,
   "metadata": {},
   "outputs": [
    {
     "name": "stdout",
     "output_type": "stream",
     "text": [
      "Result: 0.5\n",
      " execute, \n",
      " continues  .\n"
     ]
    }
   ],
   "source": [
    "try:\n",
    "    \n",
    "    num = int(input(\"Enter a number: \"))\n",
    "    result = 10 / num \n",
    "    print(\"Result:\", result)\n",
    "\n",
    "except ZeroDivisionError:\n",
    "   \n",
    "    print(\"Error: \")\n",
    "\n",
    "except ValueError:\n",
    "    \n",
    "    print(\"Error .\")\n",
    "\n",
    "finally:\n",
    "\n",
    "    print(\" execute, \")\n",
    "\n",
    "\n",
    "print(\" continues  .\")\n"
   ]
  },
  {
   "cell_type": "code",
   "execution_count": 8,
   "metadata": {},
   "outputs": [
    {
     "name": "stdout",
     "output_type": "stream",
     "text": [
      " 'hello world' .\n"
     ]
    }
   ],
   "source": [
    "\n",
    "try:\n",
    "    with open(\"mohsin.txt\", \"w\") as file:\n",
    "        \n",
    "        file.write(\"hello world\")\n",
    "        print(\" 'hello world' .\")\n",
    "except Exception as e:\n",
    "    print(\" error :\", str(e))\n"
   ]
  },
  {
   "cell_type": "code",
   "execution_count": 9,
   "metadata": {},
   "outputs": [
    {
     "name": "stdout",
     "output_type": "stream",
     "text": [
      "Successfull\n"
     ]
    }
   ],
   "source": [
    "\n",
    "try:\n",
    "    with open(\"mohsin.txt\", \"a\") as file:\n",
    "        \n",
    "        file.write(\"\\n hi python programming\")\n",
    "        print(\"Successfull\")\n",
    "except Exception as e:\n",
    "    print(\" error :\", str(e))\n"
   ]
  },
  {
   "cell_type": "code",
   "execution_count": 13,
   "metadata": {},
   "outputs": [
    {
     "name": "stdout",
     "output_type": "stream",
     "text": [
      "Python version: 3.11.6 (tags/v3.11.6:8b6ee5b, Oct  2 2023, 14:57:12) [MSC v.1935 64 bit (AMD64)]\n"
     ]
    }
   ],
   "source": [
    "import sys\n",
    "\n",
    "\n",
    "python_version = sys.version\n",
    "\n",
    "print(\"Python version:\", python_version)\n"
   ]
  },
  {
   "cell_type": "code",
   "execution_count": 10,
   "metadata": {},
   "outputs": [
    {
     "name": "stdout",
     "output_type": "stream",
     "text": [
      "File 'mohsin.txt'  successful opened.\n",
      "Read  Allowed\n",
      "Write  Allowed\n",
      "Execution Allowed\n"
     ]
    }
   ],
   "source": [
    "import os\n",
    "\n",
    "\n",
    "file_path = \"mohsin.txt\"\n",
    "\n",
    "try:\n",
    "    \n",
    "    with open(file_path, \"r\") as file:\n",
    "        print(f\"File '{file_path}'  successful opened.\")\n",
    "        \n",
    "        \n",
    "        if os.access(file_path, os.R_OK):\n",
    "            print(\"Read  Allowed\")\n",
    "        else:\n",
    "            print(\"Read  Denied\")\n",
    "        \n",
    "        if os.access(file_path, os.W_OK):\n",
    "            print(\"Write  Allowed\")\n",
    "        else:\n",
    "            print(\"Write  Denied\")\n",
    "        \n",
    "        if os.access(file_path, os.X_OK):\n",
    "            print(\"Execution Allowed\")\n",
    "        else:\n",
    "            print(\"Execution Denied\")\n",
    "\n",
    "except FileNotFoundError:\n",
    "    print(f\"File '{file_path}' not found.\")\n",
    "except PermissionError:\n",
    "    print(f\"Permission denied '{file_path}'.\")\n",
    "except Exception as e:\n",
    "    print(f\" error : {str(e)}\")\n"
   ]
  },
  {
   "cell_type": "code",
   "execution_count": 11,
   "metadata": {},
   "outputs": [
    {
     "name": "stdout",
     "output_type": "stream",
     "text": [
      "Calendar for October 2023:\n",
      "\n",
      "    October 2023\n",
      "Mo Tu We Th Fr Sa Su\n",
      "                   1\n",
      " 2  3  4  5  6  7  8\n",
      " 9 10 11 12 13 14 15\n",
      "16 17 18 19 20 21 22\n",
      "23 24 25 26 27 28 29\n",
      "30 31\n",
      "\n"
     ]
    }
   ],
   "source": [
    "import calendar\n",
    "\n",
    "\n",
    "try:\n",
    "    year = int(input(\"Enter  year: \"))\n",
    "    month = int(input(\"Enter  month (1-12): \"))\n",
    "\n",
    "   \n",
    "    if 1 <= month <= 12:\n",
    "        \n",
    "        cal = calendar.month(year, month)\n",
    "        print(f\"Calendar for {calendar.month_name[month]} {year}:\\n\")\n",
    "        print(cal)\n",
    "    else:\n",
    "        print(\"Invalid input! \")\n",
    "except ValueError:\n",
    "    print(\"Invalid input! \")\n",
    "    \n"
   ]
  },
  {
   "cell_type": "code",
   "execution_count": 1,
   "metadata": {},
   "outputs": [
    {
     "name": "stdout",
     "output_type": "stream",
     "text": [
      "Calendar for February, 2023:\n",
      "\n",
      "   February 2023\n",
      "Mo Tu We Th Fr Sa Su\n",
      "       1  2  3  4  5\n",
      " 6  7  8  9 10 11 12\n",
      "13 14 15 16 17 18 19\n",
      "20 21 22 23 24 25 26\n",
      "27 28\n",
      "\n"
     ]
    }
   ],
   "source": [
    "import calendar\n",
    "\n",
    "\n",
    "year = int(input(\"Enter the year: \"))\n",
    "month = int(input(\"Enter the month (1-12): \"))\n",
    "\n",
    "\n",
    "if 1 <= month <= 12:\n",
    "    \n",
    "    cal = calendar.month(year, month)\n",
    "    print(f\"Calendar for {calendar.month_name[month]}, {year}:\\n\")\n",
    "    print(cal)\n",
    "else:\n",
    "    print(\"Invalid input! Month should be between 1 and 12.\")\n"
   ]
  },
  {
   "cell_type": "code",
   "execution_count": 12,
   "metadata": {},
   "outputs": [
    {
     "name": "stdout",
     "output_type": "stream",
     "text": [
      "Months    12:\n",
      "January\n",
      "February\n",
      "March\n",
      "April\n",
      "May\n",
      "June\n",
      "July\n",
      "August\n",
      "September\n",
      "October\n",
      "November\n",
      "December\n"
     ]
    }
   ],
   "source": [
    "import calendar\n",
    "\n",
    "\n",
    "try:\n",
    "    year = int(input(\"Enter  year: \"))\n",
    "    \n",
    "   \n",
    "    print(f\"Months    {year}:\")\n",
    "    for month in range(1, 13):\n",
    "        print(calendar.month_name[month])\n",
    "        \n",
    "except ValueError:\n",
    "    print(\"Invalid input.\")\n",
    "    \n"
   ]
  },
  {
   "cell_type": "code",
   "execution_count": 13,
   "metadata": {},
   "outputs": [
    {
     "name": "stdout",
     "output_type": "stream",
     "text": [
      "Today Date: 2023-10-21\n",
      "Current Time: 05:22:01.919412\n"
     ]
    }
   ],
   "source": [
    "import datetime\n",
    "\n",
    "\n",
    "current_date = datetime.date.today()\n",
    "\n",
    "\n",
    "current_time = datetime.datetime.now().time()\n",
    "\n",
    "\n",
    "print(\"Today Date:\", current_date)\n",
    "print(\"Current Time:\", current_time)\n"
   ]
  },
  {
   "cell_type": "code",
   "execution_count": 14,
   "metadata": {},
   "outputs": [
    {
     "name": "stdout",
     "output_type": "stream",
     "text": [
      "Present Date: 2023-10-21\n",
      "Date after adding 12 days: 2023-11-02\n"
     ]
    }
   ],
   "source": [
    "import datetime\n",
    "\n",
    "\n",
    "current_date = datetime.date.today()\n",
    "\n",
    "\n",
    "days_to_add = int(input(\"Enter days to add: \"))\n",
    "\n",
    "\n",
    "new_date = current_date + datetime.timedelta(days=days_to_add)\n",
    "\n",
    "\n",
    "print(\"Present Date:\", current_date)\n",
    "print(f\"Date after adding {days_to_add} days:\", new_date)\n"
   ]
  },
  {
   "cell_type": "code",
   "execution_count": 16,
   "metadata": {},
   "outputs": [
    {
     "name": "stdout",
     "output_type": "stream",
     "text": [
      " Date : 2023-10-21\n",
      " Time : 05:24:24.235207\n",
      " Date and Time : 2023-10-21 05:24:24.235207\n"
     ]
    }
   ],
   "source": [
    "import datetime\n",
    "\n",
    "\n",
    "current_date = datetime.date.today()\n",
    "\n",
    "\n",
    "current_time = datetime.datetime.now().time()\n",
    "\n",
    "\n",
    "current_datetime = datetime.datetime.now()\n",
    "\n",
    "\n",
    "print(\" Date :\", current_date)\n",
    "print(\" Time :\", current_time)\n",
    "print(\" Date and Time :\", current_datetime)\n"
   ]
  },
  {
   "cell_type": "code",
   "execution_count": 17,
   "metadata": {},
   "outputs": [
    {
     "name": "stdout",
     "output_type": "stream",
     "text": [
      "Area of  circle with radius 2.0 is 12.566370614359172\n"
     ]
    }
   ],
   "source": [
    "#Write a python program which accepts the radius of a circle from user and computes the area (use math module).\n",
    "\n",
    "import math\n",
    "\n",
    "try:\n",
    "    radius = float(input(\"Enter the radiu \"))\n",
    "\n",
    "    \n",
    "    area = math.pi * radius**2\n",
    "\n",
    "   \n",
    "    print(\"Area of  circle with radius\", radius, \"is\", area)\n",
    "\n",
    "except ValueError:\n",
    "    print(\"Invalid input.\")\n"
   ]
  }
 ],
 "metadata": {
  "kernelspec": {
   "display_name": "Python 3",
   "language": "python",
   "name": "python3"
  },
  "language_info": {
   "codemirror_mode": {
    "name": "ipython",
    "version": 3
   },
   "file_extension": ".py",
   "mimetype": "text/x-python",
   "name": "python",
   "nbconvert_exporter": "python",
   "pygments_lexer": "ipython3",
   "version": "3.11.6"
  }
 },
 "nbformat": 4,
 "nbformat_minor": 2
}
